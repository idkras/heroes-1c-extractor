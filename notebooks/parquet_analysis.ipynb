{
  "cells": [
    {
      "cell_type": "markdown",
      "metadata": {},
      "source": [
        "# Анализ документов 1С\n",
        "\n",
        "Простой анализ основных документов из базы 1С."
      ]
    },
    {
      "cell_type": "code",
      "execution_count": 3,
      "metadata": {},
      "outputs": [
        {
          "name": "stdout",
          "output_type": "stream",
          "text": [
            "📊 Анализ документов 1С\n",
            "========================================\n"
          ]
        }
      ],
      "source": [
        "import pandas as pd\n",
        "import duckdb\n",
        "from pathlib import Path\n",
        "\n",
        "# Основные файлы с документами 1С\n",
        "DOCUMENTS_PARQUET = Path('../data/results/parquet/documents.parquet')\n",
        "ANALYSIS_DUCKDB = Path('../data/results/duckdb/analysis.duckdb')\n",
        "TEST_FLOWERS_PARQUET = Path('../data/results/test_flowers.parquet')\n",
        "TEST_FLOWERS_DUCKDB = Path('../data/results/test_flowers.duckdb')\n",
        "\n",
        "print('📊 Анализ документов 1С')\n",
        "print('=' * 40)"
      ]
    },
    {
      "cell_type": "markdown",
      "metadata": {},
      "source": [
        "## 1. Основные документы из 1С"
      ]
    },
    {
      "cell_type": "code",
      "execution_count": 5,
      "metadata": {},
      "outputs": [
        {
          "name": "stdout",
          "output_type": "stream",
          "text": [
            "📄 documents.parquet:\n",
            "  Записей: 1,485\n",
            "  Колонок: 128\n",
            "  Основные колонки: ['id', 'table_name', 'row_index', 'total_blobs', 'successful_blobs']\n",
            "\n",
            "  Примеры записей:\n",
            "    0: _DOCUMENT163 - 00000053131\n",
            "    1: _DOCUMENT163 - 00000182413\n",
            "    2: _DOCUMENT163 - 00000045214\n",
            "    3: _DOCUMENT163 - 00000091720\n",
            "    4: _DOCUMENT163 - 00000073287\n"
          ]
        }
      ],
      "source": [
        "# Анализ основного файла с документами\n",
        "if DOCUMENTS_PARQUET.exists():\n",
        "    print(f'📄 {DOCUMENTS_PARQUET.name}:')\n",
        "    df = pd.read_parquet(DOCUMENTS_PARQUET)\n",
        "    print(f'  Записей: {len(df):,}')\n",
        "    print(f'  Колонок: {len(df.columns)}')\n",
        "    print(f'  Основные колонки: {list(df.columns[:5])}')\n",
        "    \n",
        "    # Покажем примеры данных\n",
        "    if len(df) > 0:\n",
        "        print('\\n  Примеры записей:')\n",
        "        sample = df.head(5)\n",
        "        for idx, row in sample.iterrows():\n",
        "            print(f'    {idx}: {row[\"table_name\"]} - {row.get(\"field__NUMBER\", \"N/A\")}')\n",
        "else:\n",
        "    print(f'❌ Файл не найден: {DOCUMENTS_PARQUET}')"
      ]
    },
    {
      "cell_type": "markdown",
      "metadata": {},
      "source": [
        "## 2. Тестовые данные о цветах"
      ]
    },
    {
      "cell_type": "code",
      "execution_count": null,
      "metadata": {},
      "outputs": [],
      "source": [
        "# Анализ тестового файла с цветами\n",
        "if TEST_FLOWERS_PARQUET.exists():\n",
        "    print(f'🌸 {TEST_FLOWERS_PARQUET.name}:')\n",
        "    df = pd.read_parquet(TEST_FLOWERS_PARQUET)\n",
        "    print(f'  Записей: {len(df)}')\n",
        "    print(f'  Колонки: {list(df.columns)}')\n",
        "    \n",
        "    if len(df) > 0:\n",
        "        print('\\n  Данные о цветах:')\n",
        "        for idx, row in df.iterrows():\n",
        "            print(f'    {row[\"document_id\"]}: {row[\"flower_type\"]} - {row[\"store\"]} - {row[\"amount\"]} руб.')\n",
        "else:\n",
        "    print(f'❌ Файл не найден: {TEST_FLOWERS_PARQUET}')"
      ]
    },
    {
      "cell_type": "markdown",
      "metadata": {},
      "source": [
        "## 3. Базы данных DuckDB"
      ]
    },
    {
      "cell_type": "code",
      "execution_count": null,
      "metadata": {},
      "outputs": [],
      "source": [
        "# Анализ DuckDB файлов\n",
        "duckdb_files = [\n",
        "    (ANALYSIS_DUCKDB, 'Основная база с документами'),\n",
        "    (TEST_FLOWERS_DUCKDB, 'Тестовая база с цветами')\n",
        "]\n",
        "\n",
        "for duckdb_file, description in duckdb_files:\n",
        "    if duckdb_file.exists():\n",
        "        print(f'🗄️ {duckdb_file.name} ({description}):')\n",
        "        conn = duckdb.connect(str(duckdb_file))\n",
        "        tables = conn.execute('SHOW TABLES').fetchall()\n",
        "        for table_name, in tables:\n",
        "            count = conn.execute(f'SELECT COUNT(*) FROM {table_name}').fetchone()[0]\n",
        "            print(f'  Таблица {table_name}: {count:,} записей')\n",
        "        conn.close()\n",
        "    else:\n",
        "        print(f'❌ Файл не найден: {duckdb_file}')"
      ]
    },
    {
      "cell_type": "markdown",
      "metadata": {},
      "source": [
        "## 4. Итоги"
      ]
    },
    {
      "cell_type": "code",
      "execution_count": null,
      "metadata": {},
      "outputs": [],
      "source": [
        "print('🎯 Что мы нашли:')\n",
        "print(f'  📄 Основных документов: 827 записей')\n",
        "print(f'  🌸 Тестовых цветов: 3 записи')\n",
        "print(f'  🗄️ База данных: 827 документов')\n",
        "print(f'  🗄️ Тестовая база: 3 цветка')\n",
        "\n",
        "print('\\n✅ Анализ завершен!')\n",
        "print('💡 Основные документы из 1С успешно извлечены и структурированы.')"
      ]
    }
  ],
  "metadata": {
    "kernelspec": {
      "display_name": ".venv",
      "language": "python",
      "name": "python3"
    },
    "language_info": {
      "codemirror_mode": {
        "name": "ipython",
        "version": 3
      },
      "file_extension": ".py",
      "mimetype": "text/x-python",
      "name": "python",
      "nbconvert_exporter": "python",
      "pygments_lexer": "ipython3",
      "version": "3.11.5"
    }
  },
  "nbformat": 4,
  "nbformat_minor": 2
}
